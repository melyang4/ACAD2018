{
 "cells": [
  {
   "cell_type": "markdown",
   "metadata": {},
   "source": [
    "## Morning\n",
    "\n",
    "Exercise 1.\n",
    "Look at Mal'ta1 Excel created in lecture. \n",
    "\n",
    "Exercise 2."
   ]
  },
  {
   "cell_type": "code",
   "execution_count": null,
   "metadata": {},
   "outputs": [],
   "source": [
    "import fstat_funcs as ff\n",
    "import os\n",
    "\n",
    "home=os.environ['HOME']\n",
    "pD=home+\"/workshop/3_Wed_Yang/data/\"  \n",
    "outpd=home+\"/workshop/3_Wed_Yang/lecture/\"\n",
    "fh=\"data.EIG\"\n",
    "pt=\"f3\"\n",
    "label=\"outf3_Yamnaya\"\n",
    "out=[\"Mbuti\"]\n",
    "s1=[\"Yamnaya\"]\n",
    "\n",
    "ff.parfile(pD,fh,pt,label,outpd=outpd)\n",
    "ff.f3pop(pD,fh,label,Target=out,S1=s1,outpd=outpd)"
   ]
  },
  {
   "cell_type": "code",
   "execution_count": null,
   "metadata": {},
   "outputs": [],
   "source": [
    "import fstats_funcs as ff\n",
    "import os\n",
    "\n",
    "home=os.environ['HOME']\n",
    "pD=home+\"/workshop/3_Wed_Yang/data/\"  \n",
    "outpd=home+\"/workshop/3_Wed_Yang/lecture/\"\n",
    "fh=\"data.EIG\"\n",
    "pt=\"D\"\n",
    "outs=[\"Mbuti\"]\n",
    "mypops=[\"Loschbour\",\"Stuttgart\",\"Spain_MN\",\"Yamnaya\",\"Corded_Ware_LN\",\"Unetice_EBA\"]\n",
    "label=\"Set2_AllD_Mbuti\"\n",
    "ff.Df4pop(pD,fh,pt,label,mypops,mypops,mypops,outs,outpd=outpd)\n",
    "ff.parfile(pD,fh,pt,label,outpd=outpd)"
   ]
  },
  {
   "cell_type": "code",
   "execution_count": null,
   "metadata": {},
   "outputs": [],
   "source": [
    "import fstat_funcs as ff\n",
    "import os\n",
    "\n",
    "home=os.environ['HOME']\n",
    "pD=home+\"/workshop/3_Wed_Yang/data/\"  \n",
    "outpd=home+\"/workshop/3_Wed_Yang/lecture/\"\n",
    "fh=\"data.EIG\"\n",
    "label=\"Set2_AllD_Mbuti\"\n",
    "\n",
    "mypops=[\"Loschbour\",\"Stuttgart\",\"Spain_MN\",\"Yamnaya\",\"Corded_Ware_LN\",\"Unetice_EBA\"]\n",
    "myary=ff.Dmkary(pD,fh+\".D.\"+label+\".log\",[mypops,mypops,\"Yamnaya\",\"Mbuti\"],\"Z\")\n",
    "ff.Dmat2xlsx(myary,pD+fh+\".P3_Yamnaya\",\"D(X,Y;Yamnaya,Mbuti)\",mypops,mypops)\n",
    "\n",
    "myary=ff.Dmkary(pD,fh+\".D.\"+label+\".log\",[mypops,\"Yamnaya\",mypops,\"Mbuti\"],\"Z\")\n",
    "ff.Dmat2xlsx(myary,pD+fh+\".P2_Yamnaya\",\"D(X,Yamnaya;Y,Mbuti)\",mypops,mypops)\n"
   ]
  },
  {
   "cell_type": "markdown",
   "metadata": {},
   "source": [
    "Exercise 3"
   ]
  },
  {
   "cell_type": "code",
   "execution_count": null,
   "metadata": {},
   "outputs": [],
   "source": [
    "import fstats_funcs as ff\n",
    "import os\n",
    "\n",
    "home=os.environ['HOME']\n",
    "pD=home+\"/workshop/3_Wed_Yang/data/\"  \n",
    "outpd=home+\"/workshop/3_Wed_Yang/lecture/\"\n",
    "fh=\"data.EIG\"\n",
    "pt=\"D\"\n",
    "label=\"Set1_AllD_Mbuti\"\n",
    "ff.parfile(pD,fh,pt,label,outpd=outpd)\n",
    "fh=\"data.EIG\"\n",
    "pt=\"D\"\n",
    "outs=[\"Chimp\"]\n",
    "mypops=[\"Ust_Ishim\",\"Kostenki14\",\"MA1\",\"Loschbour\",\"Stuttgart\",\n",
    "        \"Spain_MN\",\"Yamnaya\",\"Corded_Ware_LN\",\"English\",\n",
    "        \"Han\",\"Dai\",\"Karitiana\",\"Mixe\"]\n",
    "label=\"Set1_AllD_Mbuti\"\n",
    "ff.Df4pop(pD,fh,pt,label,mypops,mypops,mypops,outs,outpd=outpd)"
   ]
  },
  {
   "cell_type": "markdown",
   "metadata": {},
   "source": [
    "Exercise 4.\n",
    "\n",
    "For the badsnpfile:\n",
    "```\n",
    "cat data.EIG.snp | egrep -v \"G A|A G|C T|T C\" > badsnps_transitions.txt\n",
    "```\n",
    "To count number of transversions available:\n",
    "```\n",
    "cat data.snp | egrep \"G A|A G|C T|T C\" | wc -l\n",
    "```"
   ]
  },
  {
   "cell_type": "markdown",
   "metadata": {},
   "source": [
    "## Afternoon\n",
    "\n",
    "Exercise 1."
   ]
  },
  {
   "cell_type": "code",
   "execution_count": null,
   "metadata": {},
   "outputs": [],
   "source": [
    "import fstats_funcs as ff\n",
    "import os\n",
    "\n",
    "home=os.environ['HOME']\n",
    "pD=home+\"/workshop/3_Wed_Yang/data/\"  \n",
    "outpd=home+\"/workshop/3_Wed_Yang/lecture/\"\n",
    "fh=\"data.EIG\"\n",
    "pt=\"f3\"\n",
    "label=\"EN_HG_MN\"\n",
    "hg=[\"Loschbour\",\"LaBrana1\",\"HungaryGamba_EN\"]\n",
    "en=[\"Stuttgart\",\"Spain_EN\",\"LBK_EN\"]\n",
    "mn=[\"Spain_MN\",\"Baalberge_MN\"]\n",
    "ff.parfile(pD,fh,pt,label,outpd=outpd,inbreed=True)\n",
    "ff.f3pop(pD,fh,label,Target=mn,S1=en,S2=hg,outpd=outpd)"
   ]
  },
  {
   "cell_type": "markdown",
   "metadata": {},
   "source": [
    "Exercise 2."
   ]
  },
  {
   "cell_type": "code",
   "execution_count": null,
   "metadata": {},
   "outputs": [],
   "source": [
    "import fstat_funcs as ff\n",
    "import os\n",
    "\n",
    "home=os.environ['HOME']\n",
    "pD=home+\"/workshop/3_Wed_Yang/data/\"  \n",
    "outpd=home+\"/workshop/3_Wed_Yang/lecture/\"\n",
    "fh=\"data.EIG\"\n",
    "pt=\"adm\"\n",
    "label=\"MN_Steppe_LN_o0\"\n",
    "out=\"out0\"\n",
    "ff.parfile(pD,fh,pt,label+\"_1\",outpd=outpd,outgroup=fh+\".\"+out)\n",
    "ff.mklst(pD,fh,pt+\".\"+label+\"_1\",[\"Corded_Ware_LN\",\"Spain_MN\",\"Yamnaya\"],suffix=\"leftpop\")\n",
    "\n",
    "ff.parfile(pD,fh,pt,label+\"_2\",outpd=outpd,outgroup=fh+\".\"+out)\n",
    "ff.mklst(pD,fh,pt+\".\"+label+\"_2\",[\"Unetice_EBA\",\"Spain_MN\",\"Yamnaya\"],suffix=\"leftpop\")\n",
    "\n",
    "ff.parfile(pD,fh,pt,label+\"_3\",outpd=outpd,outgroup=fh+\".\"+out)\n",
    "ff.mklst(pD,fh,pt+\".\"+label+\"_3\",[\"Unetice_EBA\",\"Stuttgart\",\"Yamnaya\"],suffix=\"leftpop\")"
   ]
  },
  {
   "cell_type": "markdown",
   "metadata": {},
   "source": [
    "Exercise 3."
   ]
  },
  {
   "cell_type": "code",
   "execution_count": null,
   "metadata": {},
   "outputs": [],
   "source": [
    "import fstat_funcs as ff\n",
    "import os\n",
    "\n",
    "home=os.environ['HOME']\n",
    "pD=home+\"/workshop/3_Wed_Yang/data/\"  \n",
    "outpd=home+\"/workshop/3_Wed_Yang/lecture/\"\n",
    "fh=\"data.EIG\"\n",
    "pt=\"adm\"\n",
    "label=\"LN_HG+EN+Steppe_o0\"\n",
    "out=\"out0\"\n",
    "ff.parfile(pD,fh,pt,label+\"_1\",outpd=outpd,outgroup=fh+\".\"+out)\n",
    "ff.mklst(pD,fh,pt+\".\"+label+\"_1\",[\"Corded_Ware_LN\",\"Loschbour\",\"Stuttgart\",\"Yamnaya\"],suffix=\"leftpop\")\n",
    "\n",
    "ff.parfile(pD,fh,pt,label+\"_2\",outpd=outpd,outgroup=fh+\".\"+out)\n",
    "ff.mklst(pD,fh,pt+\".\"+label+\"_2\",[\"Corded_Ware_LN\",\"Loschbour\",\"Stuttgart\",\"Yamnaya\"],suffix=\"leftpop\")"
   ]
  },
  {
   "cell_type": "markdown",
   "metadata": {},
   "source": [
    "Exercise 4"
   ]
  },
  {
   "cell_type": "code",
   "execution_count": null,
   "metadata": {},
   "outputs": [],
   "source": [
    "import fstat_funcs as ff\n",
    "import os\n",
    "\n",
    "home=os.environ['HOME']\n",
    "pD=home+\"/workshop/3_Wed_Yang/lecture/\"\n",
    "outgroups=[\"Ust_Ishim\",\"Mbuti\",\"Ju_hoan_North\",\"Papuan\",\"Kostenki14\",\"Han\",\"Dai\",\"MA1\",\"Karitiana\"]\n",
    "fh=\"data.EIG\"\n",
    "ff.mklst(pD,fh,\"out1\",outgroups)"
   ]
  },
  {
   "cell_type": "code",
   "execution_count": null,
   "metadata": {},
   "outputs": [],
   "source": [
    "import fstat_funcs as ff\n",
    "import os\n",
    "\n",
    "home=os.environ['HOME']\n",
    "pD=home+\"/workshop/3_Wed_Yang/data/\"  \n",
    "outpd=home+\"/workshop/3_Wed_Yang/lecture/\"\n",
    "fh=\"data.EIG\"\n",
    "pt=\"adm\"\n",
    "label=\"MN_Steppe_LN_o1\"\n",
    "out=\"out1\"\n",
    "ff.parfile(pD,fh,pt,label+\"_1\",outpd=outpd,outgroup=fh+\".\"+out)\n",
    "ff.mklst(pD,fh,pt+\".\"+label+\"_1\",[\"Corded_Ware_LN\",\"Spain_MN\",\"Yamnaya\"],suffix=\"leftpop\")\n",
    "\n",
    "ff.parfile(pD,fh,pt,label+\"_2\",outpd=outpd,outgroup=fh+\".\"+out)\n",
    "ff.mklst(pD,fh,pt+\".\"+label+\"_2\",[\"Unetice_EBA\",\"Spain_MN\",\"Yamnaya\"],suffix=\"leftpop\")\n",
    "\n",
    "ff.parfile(pD,fh,pt,label+\"_3\",outpd=outpd,outgroup=fh+\".\"+out)\n",
    "ff.mklst(pD,fh,pt+\".\"+label+\"_3\",[\"Unetice_EBA\",\"Stuttgart\",\"Yamnaya\"],suffix=\"leftpop\")"
   ]
  },
  {
   "cell_type": "code",
   "execution_count": null,
   "metadata": {},
   "outputs": [],
   "source": [
    "import fstat_funcs as ff\n",
    "import os\n",
    "\n",
    "home=os.environ['HOME']\n",
    "pD=home+\"/workshop/3_Wed_Yang/data/\"  \n",
    "outpd=home+\"/workshop/3_Wed_Yang/lecture/\"\n",
    "fh=\"data.EIG\"\n",
    "pt=\"adm\"\n",
    "label=\"LN_HG+EN+Steppe_o1\"\n",
    "out=\"out1\"\n",
    "ff.parfile(pD,fh,pt,label+\"_1\",outpd=outpd,outgroup=fh+\".\"+out)\n",
    "ff.mklst(pD,fh,pt+\".\"+label+\"_1\",[\"Corded_Ware_LN\",\"Loschbour\",\"Stuttgart\",\"Yamnaya\"],suffix=\"leftpop\")\n",
    "\n",
    "ff.parfile(pD,fh,pt,label+\"_2\",outpd=outpd,outgroup=fh+\".\"+out)\n",
    "ff.mklst(pD,fh,pt+\".\"+label+\"_2\",[\"Corded_Ware_LN\",\"Loschbour\",\"Stuttgart\",\"Yamnaya\"],suffix=\"leftpop\")"
   ]
  }
 ],
 "metadata": {
  "kernelspec": {
   "display_name": "Python 2",
   "language": "python",
   "name": "python2"
  },
  "language_info": {
   "codemirror_mode": {
    "name": "ipython",
    "version": 2
   },
   "file_extension": ".py",
   "mimetype": "text/x-python",
   "name": "python",
   "nbconvert_exporter": "python",
   "pygments_lexer": "ipython2",
   "version": "2.7.15"
  }
 },
 "nbformat": 4,
 "nbformat_minor": 2
}
