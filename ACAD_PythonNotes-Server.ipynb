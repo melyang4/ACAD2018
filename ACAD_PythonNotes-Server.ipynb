{
 "cells": [
  {
   "cell_type": "markdown",
   "metadata": {},
   "source": [
    "# Python / UNIX code used in ACAD2018 lecture.\n",
    "\n",
    "Below are the example Python code I use, so you can easily copy and paste the following into Terminal and/or IPython. "
   ]
  },
  {
   "cell_type": "markdown",
   "metadata": {},
   "source": [
    "Note that I added our ```scripts/``` directory to the PATH and PYTHONPATH. This lets us use the R script and Python module from any folder.\n",
    "\n",
    "First, note that many files are in the ```lecture/``` folder. Let's move them out of this folder into a new folder we make, called ```oldfiles/```. We'll be making all of these files throughout the day, but in case you have problems, at least you have these for reference. \n",
    "\n",
    "## Lecture 1: f3-statistics\n",
    "\n",
    "### 1.1. convertf - Making the PAR file. \n",
    "Type ```ipython``` into the Terminal and then the following code, changing your directory as needed. Check your outpd folder for the PAR file. To check out what the python function I wrote does, type ```ff.parfile?``` into IPython after ```import fstat_funcs as ff```."
   ]
  },
  {
   "cell_type": "code",
   "execution_count": null,
   "metadata": {},
   "outputs": [],
   "source": [
    "import fstats_funcs as ff\n",
    "import os\n",
    "\n",
    "home=os.environ['HOME']\n",
    "pD=home+\"/workshop/3_Wed_Yang/data/\"  ##Directory your data (IND/SNP/GENO) are in.\n",
    "outpd=home+\"/workshop/3_Wed_Yang/lecture/\"  ##Directory you want to put PAR file in.\n",
    "fh=\"data\"\n",
    "pt=\"CONVERTF\"\n",
    "label=\"EIG\"\n",
    "convertf=\"EIGENSTRAT\"\n",
    "ff.parfile(pD,fh,pt,label,convertf=convertf,outpd=outpd)"
   ]
  },
  {
   "cell_type": "markdown",
   "metadata": {},
   "source": [
    "Now in Terminal, in your ```outpd``` folder, type the following to convert the data from ANCESTRYMAP format to EIGENSTRAT format. It should take about two minutes. \n",
    "```\n",
    "convertf -p data.CONVERTF.EIG.par > data.CONVERTF.EIG.log\n",
    "```\n",
    "\n",
    "Now, we should be able to use ```less``` to look at the new GENO file.\n",
    "\n",
    "### 1.2. qp3Pop - Making the PAR and POP file. \n",
    "\n",
    "In IPython, to make the PAR file, type the following. Note that I'm using the same function as above. "
   ]
  },
  {
   "cell_type": "code",
   "execution_count": null,
   "metadata": {},
   "outputs": [],
   "source": [
    "import fstats_funcs as ff\n",
    "import os\n",
    "\n",
    "home=os.environ['HOME']\n",
    "pD=home+\"/workshop/3_Wed_Yang/data/\"  \n",
    "outpd=home+\"/workshop/3_Wed_Yang/lecture/\"\n",
    "fh=\"data.EIG\"\n",
    "pt=\"f3\"\n",
    "label=\"outf3_MA1\"\n",
    "\n",
    "ff.parfile(pD,fh,pt,label,outpd=outpd)"
   ]
  },
  {
   "cell_type": "markdown",
   "metadata": {},
   "source": [
    "To make the POP file, we can use the following:"
   ]
  },
  {
   "cell_type": "code",
   "execution_count": null,
   "metadata": {},
   "outputs": [],
   "source": [
    "import fstats_funcs as ff\n",
    "import os\n",
    "\n",
    "home=os.environ['HOME']\n",
    "pD=home+\"/workshop/3_Wed_Yang/data/\"  \n",
    "outpd=home+\"/workshop/3_Wed_Yang/lecture/\"\n",
    "fh=\"data.EIG\"\n",
    "label=\"outf3_MA1\"\n",
    "out=[\"Mbuti\"]\n",
    "s1=[\"MA1\"]\n",
    "ff.f3pop(pD,fh,label,Target=out,S1=s1,outpd=outpd)"
   ]
  },
  {
   "cell_type": "markdown",
   "metadata": {},
   "source": [
    "### 1.3 Running qp3Pop\n",
    "\n",
    "Now in Terminal, type the following to calculate f3-statistics for Loschbour.\n",
    "```\n",
    "qp3Pop -p data.EIG.f3.outf3_MA1.par > data.EIG.f3.outf3_MA1.log\n",
    "```\n",
    "\n",
    "And to view the sorted results:\n",
    "```\n",
    "cat data.EIG.f3.outf3_MA1.log | grep result | awk '{print $2,$3,$4,$5,$6}' | sort -rk4,4 > sorteddata.EIG.f3.outf3_MA1.log \n",
    "\n",
    "```\n",
    "\n",
    "### 1.4 Visualizing qp3Pop results in a heatmap\n",
    "\n",
    "Next, I want to show you how to visualize a heatmap using a mixture of Python and R. For this, we will use a readied f3 log file:\n",
    "```~/workshop/3_Wed_Yang/lecture/data.EIG.f3.outf3_ALL.log```\n",
    "where I ran  all combinations as Source1 and Source2, in f3(Source1, Source2; Mbuti). \n",
    "\n",
    "Using the script below, I specify a subset (```anceur```), make an array of f3 values, and then use this array to make a CSV file of the array. "
   ]
  },
  {
   "cell_type": "code",
   "execution_count": null,
   "metadata": {},
   "outputs": [],
   "source": [
    "import fstats_funcs as ff\n",
    "import pandas as pandas\n",
    "import os\n",
    "\n",
    "home=os.environ['HOME'] \n",
    "\n",
    "pd=home+\"/workshop/3_Wed_Yang/lecture/\"\n",
    "fh=\"data.EIG\"\n",
    "label=\"outf3_ALL\"\n",
    "anceur=[\"HungaryGamba_BA\",\"HungaryGamba_CA\",\"HungaryGamba_IA\",\"HungaryGamba_HG\",\n",
    "        \"HungaryGamba_EN\",\"SwedenSkoglund_MHG\",\"SwedenSkoglund_NHG\",\"SwedenSkoglund_MN\",\n",
    "        \"Iceman\",\"Motala_HG\",\"LBK_EN\",\"Unetice_EBA\",\"Corded_Ware_LN\",\n",
    "        \"Bell_Beaker_LN\",\"Karelia_HG\",\"Halberstadt_LBA\",\n",
    "        \"Alberstedt_LN\",\"Samara_HG\",\"Esperstedt_MN\",\"Starcevo_EN\",\"LBKT_EN\",\"Yamnaya\",\n",
    "        \"Spain_MN\",\"Spain_EN\",\"Karsdorf_LN\",\"Baalberge_MN\",\"Stuttgart\",\n",
    "        \"Loschbour\",\"LaBrana1\",\"Kostenki14\"]\n",
    "others=[\"Ust_Ishim\",\"MA1\",\"English\",\"Han\",\"Dai\",\"Karitiana\",\"Mixe\"]\n",
    "mylst=anceur+others\n",
    "pops=[mylst,mylst,\"Mbuti\"]\n",
    "f3ary=ff.f3mkary(pd,\"%s.f3.%s.log\" % (fh,label),pops,forZ=\"f\")\n",
    "f3dat=pandas.DataFrame(f3ary)\n",
    "rownames={ind:mylst[ind] for ind in range(len(mylst))}\n",
    "f3dat=f3dat.rename(rownames, axis='columns')\n",
    "f3dat=f3dat.rename(rownames, axis='index')\n",
    "f3dat.to_csv(pd+\"%s.f3.%s.ANC1.csv\" % (fh,label), sep='\\t')"
   ]
  },
  {
   "cell_type": "markdown",
   "metadata": {},
   "source": [
    "In the ```scripts/``` folder, there should be an R script (```mkheatmap.R```) that looks like what is below. This is just a simple script to run the heatmap.2 function on our data and output a PDF with the resulting heatmap. \n",
    "\n",
    "```\n",
    "#!/usr/bin/env Rscript\n",
    "args = commandArgs(trailingOnly=TRUE)\n",
    "\n",
    "library(gplots)\n",
    "name=args[1]\n",
    "\n",
    "myfile=read.csv(paste(name,\".csv\",sep=\"\"),sep=\"\\t\",header=T)\n",
    "\n",
    "mydat=subset(myfile, select = -c(X) )\n",
    "rownames(mydat)=colnames(mydat)\n",
    "pdf(paste(name,\".pdf\",sep=\"\"))\n",
    "#mydat[is.na(mydat)] <- 0\n",
    "mydat=data.matrix(mydat)\n",
    "v=heatmap.2(mydat,symkey=FALSE, trace=\"none\",margins =c(10,10)) #,dendrogram=\"none\")\n",
    "x=rownames(mydat)[v$rowInd]\n",
    "mynames=data.frame(x)\n",
    "write.table(mynames,paste(name,\".sorted.txt\",sep=\"\"),sep=\"\\t\",row.names=F,quote=F)\n",
    "dev.off()\n",
    "```\n",
    "\n",
    "Then, run \n",
    "```\n",
    "mkheatmap.R data.EIG.f3.outf3_ALL.ANC1\n",
    "```\n",
    "\n",
    "This should generate a PDF file with the heatmap of included individuals."
   ]
  },
  {
   "cell_type": "markdown",
   "metadata": {},
   "source": [
    "## Lecture 2: D-statistics\n",
    "\n",
    "### 2.1 Making the PAR file\n",
    "For the PAR file, note again I'm using the same function as for convertf and f3."
   ]
  },
  {
   "cell_type": "code",
   "execution_count": null,
   "metadata": {},
   "outputs": [],
   "source": [
    "import fstats_funcs as ff\n",
    "import os\n",
    "\n",
    "home=os.environ['HOME']\n",
    "pD=home+\"/workshop/3_Wed_Yang/data/\"  \n",
    "outpd=home+\"/workshop/3_Wed_Yang/lecture/\"\n",
    "fh=\"data.EIG\"\n",
    "pt=\"D\"\n",
    "label=\"Set1_AllD_Mbuti\"\n",
    "ff.parfile(pD,fh,pt,label,outpd=outpd)"
   ]
  },
  {
   "cell_type": "markdown",
   "metadata": {},
   "source": [
    "### 2.2 D-statistics, making the POP files\n",
    "\n",
    "The list of populations under consideration include:\n",
    "```\n",
    "mypops=[\"Ust_Ishim\",\"Kostenki14\",\"MA1\",\"Loschbour\",\"Stuttgart\",\n",
    "        \"Spain_MN\",\"Yamnaya\",\"Corded_Ware_LN\",\"English\",\n",
    "        \"Han\",\"Dai\",\"Karitiana\",\"Mixe\"]\n",
    "```\n",
    "These represent a wide array of Eurasians, especially ancient Europeans. If we run D-statistics placing them all in each position of P1, P2, and P3, the D-statistics we want to compare will be calculated (along with some other combinations). "
   ]
  },
  {
   "cell_type": "code",
   "execution_count": null,
   "metadata": {},
   "outputs": [],
   "source": [
    "import fstats_funcs as ff\n",
    "import os\n",
    "\n",
    "home=os.environ['HOME']\n",
    "pD=home+\"/workshop/3_Wed_Yang/data/\"  \n",
    "outpd=home+\"/workshop/3_Wed_Yang/lecture/\"\n",
    "fh=\"data.EIG\"\n",
    "pt=\"D\"\n",
    "label=\"Set1_AllD_Mbuti\"\n",
    "ff.parfile(pD,fh,pt,label,outpd=outpd)\n",
    "fh=\"data.EIG\"\n",
    "pt=\"D\"\n",
    "outs=[\"Mbuti\"]\n",
    "mypops=[\"Ust_Ishim\",\"Kostenki14\",\"MA1\",\"Loschbour\",\"Stuttgart\",\n",
    "        \"Spain_MN\",\"Yamnaya\",\"Corded_Ware_LN\",\"English\",\n",
    "        \"Han\",\"Dai\",\"Karitiana\",\"Mixe\"]\n",
    "label=\"Set1_AllD_Mbuti\"\n",
    "ff.Df4pop(pD,fh,pt,label,mypops,mypops,mypops,outs,outpd=outpd)"
   ]
  },
  {
   "cell_type": "markdown",
   "metadata": {},
   "source": [
    "### 2.3 Running qpDstat\n",
    "\n",
    "Now in Terminal, type the following to calculate D-statistics for the PAR and POP files designated above.\n",
    "```\n",
    "qpDstat -p data.EIG.D.Set1_AllD_Mbuti.par > data.EIG.D.Set1_AllD_Mbuti.log\n",
    "```\n",
    "\n",
    "This should take about three minutes.\n",
    "\n",
    "### 2.4 Viewing results for qpDstat\n",
    "\n",
    "In UNIX, we can pull out the specific D-statistic combinations we want to look at:\n",
    "\n",
    "```\n",
    "cat data.EIG.D.Set1_AllD_Mbuti.log | grep result | awk '{print $2,$3,$4,$5,$6,$7}' | awk '$1==\"MA1\" && $3==\"Ust_Ishim\"'\n",
    "\n",
    "cat data.EIG.D.Set1_AllD_Mbuti.log | grep result | awk '{print $2,$3,$4,$5,$6,$7}' | awk '$3==\"MA1\" && $1==\"Ust_Ishim\"'\n",
    "\n",
    "cat data.EIG.D.Set1_AllD_Mbuti.log | grep result | awk '{print $2,$3,$4,$5,$6,$7}' | awk '$1==\"MA1\" && $2==\"Ust_Ishim\"'\n",
    "\n",
    "```\n",
    "\n",
    "Another way of summarizing more data is to put them into a table. Usually, I compare one individual/population to a panel, using D(Panel, X; Panel, Mbuti) and D(Panel, Panel; X, Mbuti). With this particular construction, negative values along the column in both tables indicates that member of the panel forms a clade with X. I've also written two functions, ```ff.Dmkary()``` and ```ff.Dmat2xlsx()```, to easily convert the LOG file into a table in an XLSX file. "
   ]
  },
  {
   "cell_type": "code",
   "execution_count": null,
   "metadata": {},
   "outputs": [],
   "source": [
    "import fstats_funcs as ff\n",
    "import os\n",
    "\n",
    "home=os.environ['HOME']\n",
    "pD=home+\"/workshop/3_Wed_Yang/lecture/\"  \n",
    "fh=\"data.EIG\"\n",
    "label=\"Set1_AllD_Mbuti\"\n",
    "\n",
    "mypops=[\"Ust_Ishim\",\"Kostenki14\",\"MA1\",\"Loschbour\",\"Stuttgart\",\n",
    "        \"Spain_MN\",\"Yamnaya\",\"Corded_Ware_LN\",\"English\",\n",
    "        \"Han\",\"Dai\",\"Karitiana\",\"Mixe\"]\n",
    "\n",
    "mainpop=\"MA1\"\n",
    "myary=ff.Dmkary(pD,fh+\".D.\"+label+\".log\",[mypops,mypops,mainpop,\"Mbuti\"],\"Z\")\n",
    "ff.Dmat2xlsx(myary,pD+fh+\".P3_%s\" % mainpop,\"D(X,Y;%s,Mbuti)\" % mainpop,mypops,mypops)\n",
    "\n",
    "myary=ff.Dmkary(pD,fh+\".D.\"+label+\".log\",[mypops,mainpop,mypops,\"Mbuti\"],\"Z\")\n",
    "ff.Dmat2xlsx(myary,pD+fh+\".P2_%s\" % mainpop,\"D(X,%s;Y,Mbuti)\" % mainpop,mypops,mypops)"
   ]
  },
  {
   "cell_type": "markdown",
   "metadata": {},
   "source": [
    "## Lecture 3: Admixture f3-statistics\n",
    "\n",
    "We've already learned how to calculate f3-statistics, but we focused on calculating outgroup f3-statistics. Below, we create a PAR and POP file, but for admixture f3-statistics. \n",
    "\n",
    "### 3.1 Testing for gene flow into Native Americans\n",
    "To test gene flow into Native Americans, we test f3(AMER; MA1, EAS). "
   ]
  },
  {
   "cell_type": "code",
   "execution_count": null,
   "metadata": {},
   "outputs": [],
   "source": [
    "import fstats_funcs as ff\n",
    "import os\n",
    "\n",
    "home=os.environ['HOME']\n",
    "pD=home+\"/workshop/3_Wed_Yang/data/\"  \n",
    "outpd=home+\"/workshop/3_Wed_Yang/lecture/\"\n",
    "fh=\"data.EIG\"\n",
    "pt=\"f3\"\n",
    "label=\"EAS_MA1_AMER\"\n",
    "amer=[\"Karitiana\",\"Mixe\"]\n",
    "eur=[\"Kostenki14\",\"Loschbour\",\"Stuttgart\",\"English\"]\n",
    "eas=[\"Han\",\"Dai\"]\n",
    "ff.parfile(pD,fh,pt,label,outpd=outpd,inbreed=True)\n",
    "ff.f3pop(pD,fh,label,Target=amer,S1=eas,S2=[\"MA1\"]+eur,outpd=outpd)"
   ]
  },
  {
   "cell_type": "markdown",
   "metadata": {},
   "source": [
    "Then, to run ```qp3Pop```,\n",
    "```\n",
    "qp3Pop -p data.EIG.f3.EAS_MA1_AMER.par > data.EIG.f3.EAS_MA1_AMER.log\n",
    "```\n",
    "\n",
    "We are interested in negative results, so we can use:\n",
    "```\n",
    "cat data.EIG.f3.EAS_MA1_AMER.log | grep result | awk ' $5 < 0 '\n",
    "```\n",
    "What happened?\n",
    "\n",
    "### 3.2 Testing for gene flow in the Corded_Ware_LN"
   ]
  },
  {
   "cell_type": "code",
   "execution_count": null,
   "metadata": {},
   "outputs": [],
   "source": [
    "import fstats_funcs as ff\n",
    "import os\n",
    "\n",
    "home=os.environ['HOME']\n",
    "pD=home+\"/workshop/3_Wed_Yang/data/\"  \n",
    "outpd=home+\"/workshop/3_Wed_Yang/lecture/\"\n",
    "fh=\"data.EIG\"\n",
    "pt=\"f3\"\n",
    "label=\"MN_Steppe_LN\"\n",
    "\n",
    "mn=[\"Spain_MN\",\"Spain_EN\",\"Baalberge_MN\",\"Esperstedt_MN\"]\n",
    "steppe=[\"Yamnaya\"]\n",
    "ln=[\"Corded_Ware_LN\",\"Unetice_EBA\",\"Bell_Beaker_LN\",\"Halberstadt_LBA\"]\n",
    "ff.parfile(pD,fh,pt,label,outpd=outpd,inbreed=True)\n",
    "ff.f3pop(pD,fh,label,Target=ln,S1=mn,S2=steppe,outpd=outpd)"
   ]
  },
  {
   "cell_type": "markdown",
   "metadata": {},
   "source": [
    "## Lecture 4: qpWave/qpAdm\n",
    "\n",
    "For both qpWave and qpAdm, in addition to the PAR file, we require two POP files - one designating a set of outgroups ('rightpop') and the other designating the set of populations being tested for streams of ancestry and/or gene flow ('leftpop'). I wrote a simple function ```ff.mklst()``` to do this in Python. First, I make a list containing the set of outgroups I plan to use."
   ]
  },
  {
   "cell_type": "code",
   "execution_count": null,
   "metadata": {},
   "outputs": [],
   "source": [
    "import fstats_funcs as ff\n",
    "import os\n",
    "\n",
    "home=os.environ['HOME']\n",
    "pD=home+\"/workshop/3_Wed_Yang/lecture/\"\n",
    "\n",
    "outgroups=[\"Ust_Ishim\",\"Mbuti\",\"Ju_hoan_North\",\"Papuan\",\"Kostenki14\"]\n",
    "fh=\"data.EIG\"\n",
    "ff.mklst(pD,fh,\"out0\",outgroups)"
   ]
  },
  {
   "cell_type": "markdown",
   "metadata": {},
   "source": [
    "### 4.1 qpWave\n",
    "\n",
    "Below, we make the PAR file and LEFTPOP list to use in qpWave. Note that no matter the order of the leftpop list, the result should be the same. "
   ]
  },
  {
   "cell_type": "code",
   "execution_count": null,
   "metadata": {},
   "outputs": [],
   "source": [
    "import fstats_funcs as ff\n",
    "import os\n",
    "\n",
    "home=os.environ['HOME']\n",
    "pD=home+\"/workshop/3_Wed_Yang/data/\"  \n",
    "outpd=home+\"/workshop/3_Wed_Yang/lecture/\"\n",
    "fh=\"data.EIG\"\n",
    "pt=\"wave\"\n",
    "label=\"S_AMER_EAS_MA1\"\n",
    "out=\"out0\"\n",
    "ff.parfile(pD,fh,pt,label,outpd=outpd,outgroup=fh+\".\"+out)\n",
    "\n",
    "ff.mklst(outpd,fh,pt+\".\"+label,[\"Karitiana\",\"Han\",\"MA1\"],suffix=\"leftpop\")"
   ]
  },
  {
   "cell_type": "markdown",
   "metadata": {},
   "source": [
    "To run qpWave, in Unix we run the command:\n",
    "\n",
    "```\n",
    "qpWave -p data.EIG.wave.S_AMER_EAS_MA1.par > data.EIG.wave.S_AMER_EAS_MA1.log\n",
    "```\n",
    "\n",
    "This should take about 2.5 minutes. \n",
    "Use the following command to find the results we need to determine the minimum number of ancestral sources. \n",
    "``` \n",
    "grep f4rank data.EIG.wave.S_AMER_EAS_MA1.log\n",
    "```\n",
    "\n",
    "### 4.2 qpAdm\n",
    "Next, we use qpAdm to determine who is admixed, and what the admixture proportions are. We make the PAR file similarly to above, but for the LEFTPOP, the ID in the first row will be the proposed target, with the subsequent rows listing the potential sources. We run all three combinations of qpAdm(Target; S1, S2) to determine which admixture models are possible."
   ]
  },
  {
   "cell_type": "code",
   "execution_count": null,
   "metadata": {},
   "outputs": [],
   "source": [
    "import fstats_funcs as ff\n",
    "import os\n",
    "\n",
    "home=os.environ['HOME']\n",
    "pD=home+\"/workshop/3_Wed_Yang/data/\"  \n",
    "outpd=home+\"/workshop/3_Wed_Yang/lecture/\"\n",
    "fh=\"data.EIG\"\n",
    "pt=\"adm\"\n",
    "label=\"S_EAS_AMER_MA1\"\n",
    "out=\"out0\"\n",
    "ff.parfile(pD,fh,pt,label+\"_1\",outpd=outpd,outgroup=fh+\".\"+out)\n",
    "ff.mklst(outpd,fh,pt+\".\"+label+\"_1\",[\"Han\",\"Karitiana\",\"MA1\"],suffix=\"leftpop\")\n",
    "\n",
    "ff.parfile(pD,fh,pt,label+\"_2\",outpd=outpd,outgroup=fh+\".\"+out)\n",
    "ff.mklst(outpd,fh,pt+\".\"+label+\"_2\",[\"MA1\",\"Han\",\"Karitiana\"],suffix=\"leftpop\")\n",
    "\n",
    "ff.parfile(pD,fh,pt,label+\"_3\",outpd=outpd,outgroup=fh+\".\"+out)\n",
    "ff.mklst(outpd,fh,pt+\".\"+label+\"_3\",[\"Karitiana\",\"MA1\",\"Han\"],suffix=\"leftpop\")"
   ]
  },
  {
   "cell_type": "markdown",
   "metadata": {},
   "source": [
    "Then, we run ```qpAdm```, as shown below.\n",
    "```\n",
    "qpAdm -p data.EIG.adm.S_EAS_AMER_MA1_1.par > data.EIG.adm.S_EAS_AMER_MA1_1.log &\n",
    "qpAdm -p data.EIG.adm.S_EAS_AMER_MA1_2.par > data.EIG.adm.S_EAS_AMER_MA1_2.log &\n",
    "qpAdm -p data.EIG.adm.S_EAS_AMER_MA1_3.par > data.EIG.adm.S_EAS_AMER_MA1_3.log &\n",
    "```"
   ]
  },
  {
   "cell_type": "code",
   "execution_count": null,
   "metadata": {},
   "outputs": [],
   "source": []
  }
 ],
 "metadata": {
  "kernelspec": {
   "display_name": "Python 2",
   "language": "python",
   "name": "python2"
  },
  "language_info": {
   "codemirror_mode": {
    "name": "ipython",
    "version": 2
   },
   "file_extension": ".py",
   "mimetype": "text/x-python",
   "name": "python",
   "nbconvert_exporter": "python",
   "pygments_lexer": "ipython2",
   "version": "2.7.15"
  }
 },
 "nbformat": 4,
 "nbformat_minor": 2
}
